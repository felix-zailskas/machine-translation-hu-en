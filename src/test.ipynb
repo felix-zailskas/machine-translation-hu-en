{
 "cells": [
  {
   "cell_type": "code",
   "execution_count": 1,
   "metadata": {},
   "outputs": [],
   "source": [
    "import numpy as np\n",
    "import pandas as pd\n",
    "from preprocessing import trim_outliers\n",
    "from nltk.tokenize import wordpunct_tokenize\n",
    "from constants import *\n",
    "    \n",
    "df = pd.read_csv(\"../data/preprocessed/preprocessed_val.csv\")\n",
    "df[\"en_processed\"] = df[\"en_processed\"].apply(wordpunct_tokenize)\n",
    "df[\"hu_processed\"] = df[\"hu_processed\"].apply(wordpunct_tokenize)\n",
    "df = trim_outliers(df, \"en_processed\", MAX_WORDS)\n",
    "df = trim_outliers(df, \"hu_processed\", MAX_WORDS)"
   ]
  },
  {
   "cell_type": "code",
   "execution_count": 2,
   "metadata": {},
   "outputs": [
    {
     "data": {
      "text/html": [
       "<div>\n",
       "<style scoped>\n",
       "    .dataframe tbody tr th:only-of-type {\n",
       "        vertical-align: middle;\n",
       "    }\n",
       "\n",
       "    .dataframe tbody tr th {\n",
       "        vertical-align: top;\n",
       "    }\n",
       "\n",
       "    .dataframe thead th {\n",
       "        text-align: right;\n",
       "    }\n",
       "</style>\n",
       "<table border=\"1\" class=\"dataframe\">\n",
       "  <thead>\n",
       "    <tr style=\"text-align: right;\">\n",
       "      <th></th>\n",
       "      <th>Unnamed: 0</th>\n",
       "      <th>en</th>\n",
       "      <th>hu</th>\n",
       "      <th>en_processed</th>\n",
       "      <th>hu_processed</th>\n",
       "    </tr>\n",
       "  </thead>\n",
       "  <tbody>\n",
       "    <tr>\n",
       "      <th>0</th>\n",
       "      <td>0</td>\n",
       "      <td>However, most of all we must go further in ass...</td>\n",
       "      <td>Először is folytatni kell a helyzet értékelésé...</td>\n",
       "      <td>[however, ,, most, of, all, we, must, go, furt...</td>\n",
       "      <td>[először, is, folytatni, kell, a, helyzet, ért...</td>\n",
       "    </tr>\n",
       "    <tr>\n",
       "      <th>1</th>\n",
       "      <td>1</td>\n",
       "      <td>If we are putting our troops in a volatile env...</td>\n",
       "      <td>Ha csapatainkat veszélyes környezetbe tesszük,...</td>\n",
       "      <td>[if, we, are, putting, our, troops, in, a, vol...</td>\n",
       "      <td>[ha, csapatainkat, veszélyes, környezetbe, tes...</td>\n",
       "    </tr>\n",
       "    <tr>\n",
       "      <th>2</th>\n",
       "      <td>2</td>\n",
       "      <td>As regards the most frequently raised question...</td>\n",
       "      <td>Ami a nyugat-balkáni helyzethez kapcsolódó leg...</td>\n",
       "      <td>[as, regards, the, most, frequently, raised, q...</td>\n",
       "      <td>[ami, a, nyugat, -, balkáni, helyzethez, kapcs...</td>\n",
       "    </tr>\n",
       "    <tr>\n",
       "      <th>3</th>\n",
       "      <td>4</td>\n",
       "      <td>Costs, but also emissions are growing also bec...</td>\n",
       "      <td>A költségek és a kibocsátások a nagyobb gépjár...</td>\n",
       "      <td>[costs, ,, but, also, emissions, are, growing,...</td>\n",
       "      <td>[a, költségek, és, a, kibocsátások, a, nagyobb...</td>\n",
       "    </tr>\n",
       "    <tr>\n",
       "      <th>4</th>\n",
       "      <td>5</td>\n",
       "      <td>Oral questions and written declarations (tabli...</td>\n",
       "      <td>Szóbeli választ igénylő kérdések és írásbeli n...</td>\n",
       "      <td>[oral, questions, and, written, declarations, ...</td>\n",
       "      <td>[szóbeli, választ, igénylő, kérdések, és, írás...</td>\n",
       "    </tr>\n",
       "  </tbody>\n",
       "</table>\n",
       "</div>"
      ],
      "text/plain": [
       "   Unnamed: 0                                                 en  \\\n",
       "0           0  However, most of all we must go further in ass...   \n",
       "1           1  If we are putting our troops in a volatile env...   \n",
       "2           2  As regards the most frequently raised question...   \n",
       "3           4  Costs, but also emissions are growing also bec...   \n",
       "4           5  Oral questions and written declarations (tabli...   \n",
       "\n",
       "                                                  hu  \\\n",
       "0  Először is folytatni kell a helyzet értékelésé...   \n",
       "1  Ha csapatainkat veszélyes környezetbe tesszük,...   \n",
       "2  Ami a nyugat-balkáni helyzethez kapcsolódó leg...   \n",
       "3  A költségek és a kibocsátások a nagyobb gépjár...   \n",
       "4  Szóbeli választ igénylő kérdések és írásbeli n...   \n",
       "\n",
       "                                        en_processed  \\\n",
       "0  [however, ,, most, of, all, we, must, go, furt...   \n",
       "1  [if, we, are, putting, our, troops, in, a, vol...   \n",
       "2  [as, regards, the, most, frequently, raised, q...   \n",
       "3  [costs, ,, but, also, emissions, are, growing,...   \n",
       "4  [oral, questions, and, written, declarations, ...   \n",
       "\n",
       "                                        hu_processed  \n",
       "0  [először, is, folytatni, kell, a, helyzet, ért...  \n",
       "1  [ha, csapatainkat, veszélyes, környezetbe, tes...  \n",
       "2  [ami, a, nyugat, -, balkáni, helyzethez, kapcs...  \n",
       "3  [a, költségek, és, a, kibocsátások, a, nagyobb...  \n",
       "4  [szóbeli, választ, igénylő, kérdések, és, írás...  "
      ]
     },
     "execution_count": 2,
     "metadata": {},
     "output_type": "execute_result"
    }
   ],
   "source": [
    "df.head()"
   ]
  },
  {
   "cell_type": "code",
   "execution_count": 3,
   "metadata": {},
   "outputs": [
    {
     "name": "stdout",
     "output_type": "stream",
     "text": [
      "40\n",
      "1\n",
      "18.464030858244936\n"
     ]
    }
   ],
   "source": [
    "vals = df[\"hu_processed\"].to_list()\n",
    "lengths = []\n",
    "for x in vals:\n",
    "    lengths.append(len(x))\n",
    "lengths = np.array(lengths)\n",
    "\n",
    "print(lengths.max())\n",
    "print(lengths.min())\n",
    "print(lengths.mean())"
   ]
  },
  {
   "cell_type": "code",
   "execution_count": 10,
   "metadata": {},
   "outputs": [
    {
     "data": {
      "image/png": "[encoded data removed]",
      "text/plain": [
       "<Figure size 640x480 with 1 Axes>"
      ]
     },
     "metadata": {},
     "output_type": "display_data"
    }
   ],
   "source": [
    "import matplotlib.pyplot as plt\n",
    "\n",
    "plt.hist(lengths)\n",
    "plt.show()"
   ]
  },
  {
   "cell_type": "code",
   "execution_count": 4,
   "metadata": {},
   "outputs": [
    {
     "name": "stdout",
     "output_type": "stream",
     "text": [
      "42\n"
     ]
    }
   ],
   "source": [
    "# print(sen)\n",
    "# Traceback (most recent call last):\n",
    "#   File \"<string>\", line 1, in <module>\n",
    "# NameError: name 'sen' is not defined\n",
    "# print(sentence)\n",
    "sent = ['<SOS>', 'the', 'report', 'rightly', 'emphasises', 'certain', 'priorities', 'for', 'the', 'ombudsman', 'in', 'the', 'future', 'the', 'importance', 'of', 'cooperating', 'with', 'ombudsmen', 'in', 'the', 'member', 'states', ',', 'for', 'example', ',', 'and', 'the', 'proposal', 'for', 'better', 'internal', 'supervision', 'of', 'how', 'eu', 'bodies', 'are', 'managed', '.', '<EOS>']\n",
    "print(len(sent))\n"
   ]
  }
 ],
 "metadata": {
  "kernelspec": {
   "display_name": "Python 3.10.11 ('NLP_Proj2-rNUYsnK4')",
   "language": "python",
   "name": "python3"
  },
  "language_info": {
   "codemirror_mode": {
    "name": "ipython",
    "version": 3
   },
   "file_extension": ".py",
   "mimetype": "text/x-python",
   "name": "python",
   "nbconvert_exporter": "python",
   "pygments_lexer": "ipython3",
   "version": "3.10.11"
  },
  "orig_nbformat": 4,
  "vscode": {
   "interpreter": {
    "hash": "5f409a3a832281d5d29b9db2f1b88490e5520e0b507b00f44db5cda2918a49b6"
   }
  }
 },
 "nbformat": 4,
 "nbformat_minor": 2
}
