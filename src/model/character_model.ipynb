{
 "cells": [
  {
   "cell_type": "code",
   "execution_count": 1,
   "metadata": {},
   "outputs": [],
   "source": [
    "import numpy as np\n",
    "import pandas as pd"
   ]
  },
  {
   "cell_type": "code",
   "execution_count": 2,
   "metadata": {},
   "outputs": [],
   "source": [
    "df = pd.read_csv(\"../data/preprocessed/preprocessed_val.csv\")"
   ]
  },
  {
   "cell_type": "code",
   "execution_count": 15,
   "metadata": {},
   "outputs": [],
   "source": [
    "vals = df[\"en_processed\"].to_list()"
   ]
  },
  {
   "cell_type": "code",
   "execution_count": 24,
   "metadata": {},
   "outputs": [
    {
     "ename": "AttributeError",
     "evalue": "'list' object has no attribute 'split'",
     "output_type": "error",
     "traceback": [
      "\u001b[0;31m---------------------------------------------------------------------------\u001b[0m",
      "\u001b[0;31mAttributeError\u001b[0m                            Traceback (most recent call last)",
      "Cell \u001b[0;32mIn[24], line 1\u001b[0m\n\u001b[0;32m----> 1\u001b[0m df[\u001b[39m\"\u001b[39;49m\u001b[39men_processed\u001b[39;49m\u001b[39m\"\u001b[39;49m]\u001b[39m.\u001b[39;49mto_list()\u001b[39m.\u001b[39;49msplit()\n",
      "\u001b[0;31mAttributeError\u001b[0m: 'list' object has no attribute 'split'"
     ]
    }
   ],
   "source": [
    "df[\"en_processed\"].to_list().split()"
   ]
  },
  {
   "cell_type": "code",
   "execution_count": 19,
   "metadata": {},
   "outputs": [
    {
     "data": {
      "text/plain": [
       "106"
      ]
     },
     "execution_count": 19,
     "metadata": {},
     "output_type": "execute_result"
    }
   ],
   "source": [
    "len(vals[1])"
   ]
  },
  {
   "cell_type": "code",
   "execution_count": 20,
   "metadata": {},
   "outputs": [],
   "source": [
    "lengths = []\n",
    "for x in vals:\n",
    "    lengths.append(len(x.split()))\n",
    "lengths = np.array(lengths)"
   ]
  },
  {
   "cell_type": "code",
   "execution_count": 21,
   "metadata": {},
   "outputs": [
    {
     "name": "stdout",
     "output_type": "stream",
     "text": [
      "114\n",
      "1\n",
      "24.01632\n"
     ]
    }
   ],
   "source": [
    "print(lengths.max())\n",
    "print(lengths.min())\n",
    "print(lengths.mean())"
   ]
  },
  {
   "cell_type": "code",
   "execution_count": 22,
   "metadata": {},
   "outputs": [
    {
     "data": {
      "text/plain": [
       "(array([1260., 2217., 1536.,  853.,  239.,   81.,   39.,   15.,    6.,\n",
       "           4.]),\n",
       " array([  1. ,  12.3,  23.6,  34.9,  46.2,  57.5,  68.8,  80.1,  91.4,\n",
       "        102.7, 114. ]),\n",
       " <BarContainer object of 10 artists>)"
      ]
     },
     "execution_count": 22,
     "metadata": {},
     "output_type": "execute_result"
    },
    {
     "data": {
      "image/png": "[encoded data removed]",
      "text/plain": [
       "<Figure size 640x480 with 1 Axes>"
      ]
     },
     "metadata": {},
     "output_type": "display_data"
    }
   ],
   "source": [
    "from matplotlib import pyplot as plt\n",
    "\n",
    "plt.hist(lengths)"
   ]
  },
  {
   "cell_type": "code",
   "execution_count": 3,
   "metadata": {},
   "outputs": [
    {
     "data": {
      "text/plain": [
       "Unnamed: 0                                                     12\n",
       "en              The EU would oppose the project if Lithuania's...\n",
       "hu              Az EU tiltakozna a projekttel szemben, ha Litv...\n",
       "en_processed    the eu would oppose the project if lithuania's...\n",
       "hu_processed    az eu tiltakozna a projekttel szemben, ha litv...\n",
       "Name: 12, dtype: object"
      ]
     },
     "execution_count": 3,
     "metadata": {},
     "output_type": "execute_result"
    }
   ],
   "source": [
    "def get_all_letters(text: list[str]) -> list[str]:\n",
    "    text = np.array(text)"
   ]
  },
  {
   "cell_type": "code",
   "execution_count": 6,
   "metadata": {},
   "outputs": [
    {
     "data": {
      "text/plain": [
       "['s',\n",
       " 'n',\n",
       " 'x',\n",
       " \"'\",\n",
       " 'g',\n",
       " '?',\n",
       " 'ο',\n",
       " 'r',\n",
       " 'á',\n",
       " 'å',\n",
       " 'o',\n",
       " 'e',\n",
       " 'i',\n",
       " '2',\n",
       " '!',\n",
       " '7',\n",
       " 'ł',\n",
       " 'à',\n",
       " '.',\n",
       " '9',\n",
       " '”',\n",
       " 'y',\n",
       " 'h',\n",
       " ',',\n",
       " 'ă',\n",
       " '-',\n",
       " 'ő',\n",
       " 'τ',\n",
       " 'ö',\n",
       " '5',\n",
       " 'ţ',\n",
       " 'l',\n",
       " 'ó',\n",
       " 'ć',\n",
       " '3',\n",
       " 'm',\n",
       " 'í',\n",
       " 'f',\n",
       " 'q',\n",
       " 'α',\n",
       " '0',\n",
       " 'ã',\n",
       " 'k',\n",
       " 'z',\n",
       " '1',\n",
       " 'č',\n",
       " 'w',\n",
       " 'b',\n",
       " '4',\n",
       " 'v',\n",
       " 'ν',\n",
       " 'ń',\n",
       " ' ',\n",
       " 'p',\n",
       " 'a',\n",
       " 'j',\n",
       " 'ø',\n",
       " 'd',\n",
       " 'š',\n",
       " 'ü',\n",
       " '8',\n",
       " '6',\n",
       " 't',\n",
       " 'u',\n",
       " 'é',\n",
       " 'c']"
      ]
     },
     "execution_count": 6,
     "metadata": {},
     "output_type": "execute_result"
    }
   ],
   "source": [
    "full_text = \" \".join(df[\"en_processed\"].tolist())\n",
    "list(set(full_text))"
   ]
  }
 ],
 "metadata": {
  "kernelspec": {
   "display_name": "NLP_Proj2-710O_kfd",
   "language": "python",
   "name": "python3"
  },
  "language_info": {
   "codemirror_mode": {
    "name": "ipython",
    "version": 3
   },
   "file_extension": ".py",
   "mimetype": "text/x-python",
   "name": "python",
   "nbconvert_exporter": "python",
   "pygments_lexer": "ipython3",
   "version": "3.10.9"
  },
  "orig_nbformat": 4
 },
 "nbformat": 4,
 "nbformat_minor": 2
}
