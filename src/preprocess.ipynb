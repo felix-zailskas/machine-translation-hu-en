{
 "cells": [
  {
   "cell_type": "code",
   "execution_count": 1,
   "metadata": {},
   "outputs": [],
   "source": [
    "import numpy as np\n",
    "import pandas as pd\n",
    "from preprocessing import apply_default_pipeline, split_and_save_dataframe"
   ]
  },
  {
   "cell_type": "code",
   "execution_count": 2,
   "metadata": {},
   "outputs": [
    {
     "data": {
      "text/plain": [
       "<bound method NDFrame.head of                                                       en  \\\n",
       "0      Not one of the resolutions adopted by Parliame...   \n",
       "1      Various penalties must also be introduced, suc...   \n",
       "2       The Member States do have the necessary ability.   \n",
       "3      I would remind you that in 2003 and 2005 Portu...   \n",
       "4      We must therefore increase coordination at Eur...   \n",
       "...                                                  ...   \n",
       "59308  The vote on this item will take place on Wedne...   \n",
       "59309                       Witten statements (Rule 142)   \n",
       "59310  in writing. - (HU) I would like to congratulat...   \n",
       "59311  At the same time, I was sorry to note that the...   \n",
       "59312  We should just think of how much legislation w...   \n",
       "\n",
       "                                                      hu  \n",
       "0      Az a környezeti katasztrófa, amelyet az erdőtü...  \n",
       "1      Az Európai Unió szempontjából ez semmivel sem ...  \n",
       "2      Ezért kell itt az Európai Unióban együttesen f...  \n",
       "3      Örömmel nyugtázom Špidla úr azzal kapcsolatos ...  \n",
       "4      Remélem, hogy a Bizottság a legfelkészültebb s...  \n",
       "...                                                  ...  \n",
       "59308  Ezt az eljárást pozitívan értékelem, de ugyana...  \n",
       "59309  Az egyik klubtag, aki igen kritikusan tekint a...  \n",
       "59310  Érdekes módon, pár perccel ezután egy mezőgazd...  \n",
       "59311  Véleményem szerint ez igen egyértelműen jelzi,...  \n",
       "59312  Ezért elengedhetetlenül fontos a helyes gyakor...  \n",
       "\n",
       "[59313 rows x 2 columns]>"
      ]
     },
     "execution_count": 2,
     "metadata": {},
     "output_type": "execute_result"
    }
   ],
   "source": [
    "df = pd.read_csv(\"../data/sampled_data.csv\", header=None, names=[\"en\", \"hu\"])\n",
    "df.head"
   ]
  },
  {
   "cell_type": "code",
   "execution_count": 3,
   "metadata": {},
   "outputs": [
    {
     "data": {
      "text/plain": [
       "<bound method NDFrame.head of                                                       en  \\\n",
       "0      Not one of the resolutions adopted by Parliame...   \n",
       "1      Various penalties must also be introduced, suc...   \n",
       "2       The Member States do have the necessary ability.   \n",
       "3      I would remind you that in 2003 and 2005 Portu...   \n",
       "4      We must therefore increase coordination at Eur...   \n",
       "...                                                  ...   \n",
       "59308  The vote on this item will take place on Wedne...   \n",
       "59309                       Witten statements (Rule 142)   \n",
       "59310  in writing. - (HU) I would like to congratulat...   \n",
       "59311  At the same time, I was sorry to note that the...   \n",
       "59312  We should just think of how much legislation w...   \n",
       "\n",
       "                                                      hu  \\\n",
       "0      Az a környezeti katasztrófa, amelyet az erdőtü...   \n",
       "1      Az Európai Unió szempontjából ez semmivel sem ...   \n",
       "2      Ezért kell itt az Európai Unióban együttesen f...   \n",
       "3      Örömmel nyugtázom Špidla úr azzal kapcsolatos ...   \n",
       "4      Remélem, hogy a Bizottság a legfelkészültebb s...   \n",
       "...                                                  ...   \n",
       "59308  Ezt az eljárást pozitívan értékelem, de ugyana...   \n",
       "59309  Az egyik klubtag, aki igen kritikusan tekint a...   \n",
       "59310  Érdekes módon, pár perccel ezután egy mezőgazd...   \n",
       "59311  Véleményem szerint ez igen egyértelműen jelzi,...   \n",
       "59312  Ezért elengedhetetlenül fontos a helyes gyakor...   \n",
       "\n",
       "                                            en_processed  \\\n",
       "0      not one of the resolutions adopted by parliame...   \n",
       "1      various penalties must also be introduced, suc...   \n",
       "2       the member states do have the necessary ability.   \n",
       "3      i would remind you that in two thousand and th...   \n",
       "4      we must therefore increase coordination at eur...   \n",
       "...                                                  ...   \n",
       "59308  the vote on this item will take place on wedne...   \n",
       "59309                                  witten statements   \n",
       "59310  in writing. i would like to congratulate the r...   \n",
       "59311  at the same time, i was sorry to note that the...   \n",
       "59312  we should just think of how much legislation w...   \n",
       "\n",
       "                                            hu_processed  \n",
       "0      az a környezeti katasztrófa, amelyet az erdőtü...  \n",
       "1      az európai unió szempontjából ez semmivel sem ...  \n",
       "2      ezért kell itt az európai unióban együttesen f...  \n",
       "3      örömmel nyugtázom špidla úr azzal kapcsolatos ...  \n",
       "4      remélem, hogy a bizottság a legfelkészültebb s...  \n",
       "...                                                  ...  \n",
       "59308  ezt az eljárást pozitívan értékelem, de ugyana...  \n",
       "59309  az egyik klubtag, aki igen kritikusan tekint a...  \n",
       "59310  érdekes módon, pár perccel ezután egy mezőgazd...  \n",
       "59311  véleményem szerint ez igen egyértelműen jelzi,...  \n",
       "59312  ezért elengedhetetlenül fontos a helyes gyakor...  \n",
       "\n",
       "[59313 rows x 4 columns]>"
      ]
     },
     "execution_count": 3,
     "metadata": {},
     "output_type": "execute_result"
    }
   ],
   "source": [
    "df = apply_default_pipeline(df, \"en\", \"en_processed\", lang=\"en\")\n",
    "df = apply_default_pipeline(df, \"hu\", \"hu_processed\", lang=\"hu\")\n",
    "df.head"
   ]
  },
  {
   "cell_type": "code",
   "execution_count": 4,
   "metadata": {},
   "outputs": [],
   "source": [
    "split_and_save_dataframe(df, 0.7, 0.1, 0.2, \"preprocessed\", \"../data/preprocessed/\")"
   ]
  }
 ],
 "metadata": {
  "kernelspec": {
   "display_name": "NLP_Proj2-710O_kfd",
   "language": "python",
   "name": "python3"
  },
  "language_info": {
   "codemirror_mode": {
    "name": "ipython",
    "version": 3
   },
   "file_extension": ".py",
   "mimetype": "text/x-python",
   "name": "python",
   "nbconvert_exporter": "python",
   "pygments_lexer": "ipython3",
   "version": "3.10.9"
  },
  "orig_nbformat": 4
 },
 "nbformat": 4,
 "nbformat_minor": 2
}
