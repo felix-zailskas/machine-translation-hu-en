{
 "cells": [
  {
   "cell_type": "code",
   "execution_count": 5,
   "metadata": {},
   "outputs": [],
   "source": [
    "import numpy as np\n",
    "import pandas as pd\n",
    "from preprocessing import apply_default_pipeline, split_and_save_dataframe"
   ]
  },
  {
   "cell_type": "code",
   "execution_count": 6,
   "metadata": {},
   "outputs": [
    {
     "data": {
      "text/plain": [
       "<bound method NDFrame.head of                                                       en  \\\n",
       "0         EC-Algeria Euro-Mediterranean Agreement (vote)   \n",
       "1      EC-Moldova Partnership and Cooperation Agreeme...   \n",
       "2      EC-Ukraine Partnership and Cooperation Agreeme...   \n",
       "3      EC-Armenia Partnership and Cooperation Agreeme...   \n",
       "4                           Report: Jacek Saryusz-Wolski   \n",
       "...                                                  ...   \n",
       "62488  It is a known fact that Benazir Bhutto was kil...   \n",
       "62489  I do not believe that reconciliation is possib...   \n",
       "62490  I do not know whether this means acceding to t...   \n",
       "62491  I would also like to say that I have been rece...   \n",
       "62492  This, too, has to stop if we wish the election...   \n",
       "\n",
       "                                                      hu  \n",
       "0      Euromediterrán megállapodás az EK és Algéria k...  \n",
       "1      Partnerségi és együttműködési megállapodás az ...  \n",
       "2      Partnerségi és együttműködési megállapodás az ...  \n",
       "3      Partnerségi és együttműködési megállapodás az ...  \n",
       "4                           Report: Jacek Saryusz-Wolski  \n",
       "...                                                  ...  \n",
       "62488  Az ismert tény, hogy Benazir Bhuttót erőszakos...  \n",
       "62489  Nem hiszem, hogy Pakisztánban lehetséges lenne...  \n",
       "62490  Nem tudom, hogy ez azt jelenti-e, hogy eleget ...  \n",
       "62491  Szeretném azt is elmondani, hogy beszámolókat ...  \n",
       "62492  Ennek is véget kell vetni, ha azt akarjuk, hog...  \n",
       "\n",
       "[62493 rows x 2 columns]>"
      ]
     },
     "execution_count": 6,
     "metadata": {},
     "output_type": "execute_result"
    }
   ],
   "source": [
    "df = pd.read_csv(\"../data/sampled_data.csv\", header=None, names=[\"en\", \"hu\"])\n",
    "df.head"
   ]
  },
  {
   "cell_type": "code",
   "execution_count": 7,
   "metadata": {},
   "outputs": [
    {
     "data": {
      "text/plain": [
       "<bound method NDFrame.head of                                                       en  \\\n",
       "0         EC-Algeria Euro-Mediterranean Agreement (vote)   \n",
       "1      EC-Moldova Partnership and Cooperation Agreeme...   \n",
       "2      EC-Ukraine Partnership and Cooperation Agreeme...   \n",
       "3      EC-Armenia Partnership and Cooperation Agreeme...   \n",
       "4                           Report: Jacek Saryusz-Wolski   \n",
       "...                                                  ...   \n",
       "62488  It is a known fact that Benazir Bhutto was kil...   \n",
       "62489  I do not believe that reconciliation is possib...   \n",
       "62490  I do not know whether this means acceding to t...   \n",
       "62491  I would also like to say that I have been rece...   \n",
       "62492  This, too, has to stop if we wish the election...   \n",
       "\n",
       "                                                      hu  \\\n",
       "0      Euromediterrán megállapodás az EK és Algéria k...   \n",
       "1      Partnerségi és együttműködési megállapodás az ...   \n",
       "2      Partnerségi és együttműködési megállapodás az ...   \n",
       "3      Partnerségi és együttműködési megállapodás az ...   \n",
       "4                           Report: Jacek Saryusz-Wolski   \n",
       "...                                                  ...   \n",
       "62488  Az ismert tény, hogy Benazir Bhuttót erőszakos...   \n",
       "62489  Nem hiszem, hogy Pakisztánban lehetséges lenne...   \n",
       "62490  Nem tudom, hogy ez azt jelenti-e, hogy eleget ...   \n",
       "62491  Szeretném azt is elmondani, hogy beszámolókat ...   \n",
       "62492  Ennek is véget kell vetni, ha azt akarjuk, hog...   \n",
       "\n",
       "                                            en_processed  \\\n",
       "0                ec-algeria euro-mediterranean agreement   \n",
       "1       ec-moldova partnership and cooperation agreement   \n",
       "2       ec-ukraine partnership and cooperation agreement   \n",
       "3       ec-armenia partnership and cooperation agreement   \n",
       "4                            report jacek saryusz-wolski   \n",
       "...                                                  ...   \n",
       "62488  it is a known fact that benazir bhutto was kil...   \n",
       "62489  i do not believe that reconciliation is possib...   \n",
       "62490  i do not know whether this means acceding to t...   \n",
       "62491  i would also like to say that i have been rece...   \n",
       "62492  this, too, has to stop if we wish the election...   \n",
       "\n",
       "                                            hu_processed  \n",
       "0      euromediterrán megállapodás az ek és algéria k...  \n",
       "1      partnerségi és együttműködési megállapodás az ...  \n",
       "2      partnerségi és együttműködési megállapodás az ...  \n",
       "3      partnerségi és együttműködési megállapodás az ...  \n",
       "4                            report jacek saryusz-wolski  \n",
       "...                                                  ...  \n",
       "62488  az ismert tény, hogy benazir bhuttót erőszakos...  \n",
       "62489  nem hiszem, hogy pakisztánban lehetséges lenne...  \n",
       "62490  nem tudom, hogy ez azt jelenti-e, hogy eleget ...  \n",
       "62491  szeretném azt is elmondani, hogy beszámolókat ...  \n",
       "62492  ennek is véget kell vetni, ha azt akarjuk, hog...  \n",
       "\n",
       "[62493 rows x 4 columns]>"
      ]
     },
     "execution_count": 7,
     "metadata": {},
     "output_type": "execute_result"
    }
   ],
   "source": [
    "df = apply_default_pipeline(df, \"en\", \"en_processed\", lang=\"en\")\n",
    "df = apply_default_pipeline(df, \"hu\", \"hu_processed\", lang=\"hu\")\n",
    "df.head"
   ]
  },
  {
   "cell_type": "code",
   "execution_count": 8,
   "metadata": {},
   "outputs": [],
   "source": [
    "split_and_save_dataframe(\n",
    "    df, 0.7, 0.1, 0.2, \"preprocessed\", \"../data/preprocessed/\", random_state=0\n",
    ")"
   ]
  }
 ],
 "metadata": {
  "kernelspec": {
   "display_name": "NLP_Proj2-710O_kfd",
   "language": "python",
   "name": "python3"
  },
  "language_info": {
   "codemirror_mode": {
    "name": "ipython",
    "version": 3
   },
   "file_extension": ".py",
   "mimetype": "text/x-python",
   "name": "python",
   "nbconvert_exporter": "python",
   "pygments_lexer": "ipython3",
   "version": "3.10.9"
  },
  "orig_nbformat": 4
 },
 "nbformat": 4,
 "nbformat_minor": 2
}
