{
 "cells": [
  {
   "cell_type": "code",
   "execution_count": 15,
   "metadata": {},
   "outputs": [
    {
     "name": "stdout",
     "output_type": "stream",
     "text": [
      "618\n"
     ]
    }
   ],
   "source": [
    "from __future__ import unicode_literals, print_function, division\n",
    "from io import open\n",
    "import unicodedata\n",
    "import re\n",
    "import random\n",
    "from time import time\n",
    "import torch\n",
    "import torch.nn as nn\n",
    "from torch import optim\n",
    "import torch.nn.functional as F\n",
    "from torch.utils.data import TensorDataset, DataLoader, RandomSampler\n",
    "\n",
    "import numpy as np\n",
    "import pandas as pd\n",
    "import pickle\n",
    "\n",
    "from lang import LanguageDataset\n",
    "from preprocessing import get_vocab, word2idx, idx2word, add_sentence_tokens, trim_outliers\n",
    "from nltk.tokenize import wordpunct_tokenize\n",
    "from nltk.translate import bleu_score\n",
    "from gensim.models import Word2Vec\n",
    "from model import *\n",
    "from constants import *\n",
    "\n",
    "df = pd.read_csv(\"../data/preprocessed/preprocessed_train.csv\")\n",
    "df[\"en_processed\"] = df[\"en_processed\"].apply(wordpunct_tokenize)\n",
    "df[\"hu_processed\"] = df[\"hu_processed\"].apply(wordpunct_tokenize)\n",
    "df = trim_outliers(df, \"en_processed\", MAX_WORDS)\n",
    "df = trim_outliers(df, \"hu_processed\", MAX_WORDS)\n",
    "print(len(df.index))\n",
    "df[\"en_processed\"] = df[\"en_processed\"].apply(add_sentence_tokens)\n",
    "df[\"hu_processed\"] = df[\"hu_processed\"].apply(add_sentence_tokens)\n",
    "\n",
    "input_sentences = df[\"en_processed\"]\n",
    "output_sentences = df[\"hu_processed\"]\n",
    "\n"
   ]
  },
  {
   "cell_type": "code",
   "execution_count": 16,
   "metadata": {},
   "outputs": [],
   "source": [
    "input_pretrained_embeddings = torch.load(\"../models/w2v_embeddings/embeddings_cbow_en.pt\")\n",
    "output_pretrained_embeddings = torch.load(\"../models/w2v_embeddings/embeddings_cbow_hu.pt\")\n",
    "\n",
    "with open(\"../models/word2index/word2index_cbow_en.pkl\", 'rb') as fp:\n",
    "    input_word2idx = pickle.load(fp)\n",
    "with open(\"../models/word2index/word2index_cbow_hu.pkl\", 'rb') as fp:\n",
    "    output_word2idx = pickle.load(fp)\n",
    "with open(\"../models/word2index/index2word_cbow_en.pkl\", 'rb') as fp:\n",
    "    input_idx2word = pickle.load(fp)\n",
    "with open(\"../models/word2index/index2word_cbow_hu.pkl\", 'rb') as fp:\n",
    "    output_idx2word = pickle.load(fp)\n",
    "    \n",
    "# create dataloader\n",
    "dataset = LanguageDataset(\n",
    "    input_sentences, output_sentences, input_word2idx, output_word2idx\n",
    ")\n",
    "dataloader = DataLoader(dataset, batch_size=64, shuffle=True)"
   ]
  },
  {
   "cell_type": "code",
   "execution_count": 17,
   "metadata": {},
   "outputs": [
    {
     "data": {
      "text/plain": [
       "AttnDecoderRNN(\n",
       "  (embedding): Embedding(8540, 100)\n",
       "  (attention): BahdanauAttention(\n",
       "    (Wa): Linear(in_features=100, out_features=100, bias=True)\n",
       "    (Ua): Linear(in_features=100, out_features=100, bias=True)\n",
       "    (Va): Linear(in_features=100, out_features=1, bias=True)\n",
       "  )\n",
       "  (gru): GRU(200, 100, batch_first=True)\n",
       "  (out): Linear(in_features=100, out_features=8540, bias=True)\n",
       "  (dropout): Dropout(p=0.1, inplace=False)\n",
       ")"
      ]
     },
     "execution_count": 17,
     "metadata": {},
     "output_type": "execute_result"
    }
   ],
   "source": [
    "encoder = EncoderRNN(len(input_word2idx), EMBEDDING_DIM, input_pretrained_embeddings).to(device)\n",
    "decoder = AttnDecoderRNN(EMBEDDING_DIM, len(output_word2idx), output_pretrained_embeddings).to(device)\n",
    "\n",
    "translation = \"en_hu\"\n",
    "embedding = \"cbow\"\n",
    "attention = \"attention\"\n",
    "\n",
    "# load trained model\n",
    "encoder.load_state_dict(torch.load(f\"../models/{translation}/{embedding}/{attention}/encoder_{MAX_WORDS}_100.model\"))\n",
    "encoder.eval()\n",
    "decoder.load_state_dict(torch.load(f\"../models/{translation}/{embedding}/{attention}/decoder_{MAX_WORDS}_100.model\"))\n",
    "decoder.eval()"
   ]
  },
  {
   "cell_type": "code",
   "execution_count": 18,
   "metadata": {},
   "outputs": [
    {
     "name": "stderr",
     "output_type": "stream",
     "text": [
      "/Users/DiarmuidFogarty/.local/share/virtualenvs/NLP_Proj2-rNUYsnK4/lib/python3.10/site-packages/nltk/translate/bleu_score.py:552: UserWarning: \n",
      "The hypothesis contains 0 counts of 2-gram overlaps.\n",
      "Therefore the BLEU score evaluates to 0, independently of\n",
      "how many N-gram overlaps of lower order it contains.\n",
      "Consider using lower n-gram order or use SmoothingFunction()\n",
      "  warnings.warn(_msg)\n",
      "/Users/DiarmuidFogarty/.local/share/virtualenvs/NLP_Proj2-rNUYsnK4/lib/python3.10/site-packages/nltk/translate/bleu_score.py:552: UserWarning: \n",
      "The hypothesis contains 0 counts of 3-gram overlaps.\n",
      "Therefore the BLEU score evaluates to 0, independently of\n",
      "how many N-gram overlaps of lower order it contains.\n",
      "Consider using lower n-gram order or use SmoothingFunction()\n",
      "  warnings.warn(_msg)\n",
      "/Users/DiarmuidFogarty/.local/share/virtualenvs/NLP_Proj2-rNUYsnK4/lib/python3.10/site-packages/nltk/translate/bleu_score.py:552: UserWarning: \n",
      "The hypothesis contains 0 counts of 4-gram overlaps.\n",
      "Therefore the BLEU score evaluates to 0, independently of\n",
      "how many N-gram overlaps of lower order it contains.\n",
      "Consider using lower n-gram order or use SmoothingFunction()\n",
      "  warnings.warn(_msg)\n"
     ]
    }
   ],
   "source": [
    "predictions = [evaluate(encoder, decoder, test_input_sentence, input_word2idx, output_idx2word)[1:-1] for test_input_sentence in input_sentences]\n",
    "targets = [sentence[1:-1] for sentence in output_sentences]\n",
    "\n",
    "bleu_scores = []\n",
    "for prediction, target in zip(predictions, targets):\n",
    "    bleu_scores.append(bleu_score.sentence_bleu([target], prediction, weights = (1, 0, 0 ,0)))\n",
    "\n",
    "bleu_scores = np.array(bleu_scores)\n",
    "\n",
    "# bleu_scores = bleu_score.corpus_bleu(targets, predictions, weights = (1, 0, 0 ,0))"
   ]
  },
  {
   "cell_type": "code",
   "execution_count": 19,
   "metadata": {},
   "outputs": [],
   "source": [
    "best_ones = np.argsort(bleu_scores)[-3:]\n",
    "worst_ones = np.argsort(bleu_scores)[:3]"
   ]
  },
  {
   "cell_type": "code",
   "execution_count": 20,
   "metadata": {},
   "outputs": [
    {
     "name": "stdout",
     "output_type": "stream",
     "text": [
      "1.0\n",
      "['<SOS>', 'membership', 'of', 'parliament', 'see', 'minutes', '<EOS>']\n",
      "['a', 'parlament', 'tagjai', 'lásd', 'a', 'jegyzőkönyvet']\n",
      "['a', 'parlament', 'tagjai', 'lásd', 'a', 'jegyzőkönyvet']\n",
      "1.0\n",
      "['<SOS>', 'thank', 'you', '.', '<EOS>']\n",
      "['köszönöm', '.']\n",
      "['köszönöm', '.']\n",
      "1.0\n",
      "['<SOS>', 'oral', 'questions', 'and', 'written', 'declarations', 'see', 'minutes', '<EOS>']\n",
      "['szóbeli', 'választ', 'igénylő', 'kérdések', 'és', 'írásbeli', 'nyilatkozatok', 'lásd', 'a', 'jegyzőkönyvet']\n",
      "['szóbeli', 'választ', 'igénylő', 'kérdések', 'és', 'írásbeli', 'nyilatkozatok', 'lásd', 'a', 'jegyzőkönyvet']\n"
     ]
    }
   ],
   "source": [
    "for i in best_ones:\n",
    "    print(bleu_scores[i])\n",
    "    print(input_sentences[i])\n",
    "    print(targets[i])\n",
    "    print(predictions[i])"
   ]
  },
  {
   "cell_type": "code",
   "execution_count": 21,
   "metadata": {},
   "outputs": [
    {
     "name": "stdout",
     "output_type": "stream",
     "text": [
      "0.0\n",
      "['<SOS>', 'we', 'must', 'drive', 'forward', 'the', 'doha', 'round', '.', '<EOS>']\n",
      "['elő', 'kell', 'segítenünk', 'a', 'dohai', 'forduló', 'előrehaladását', '.']\n",
      "['vissza', 'akarunk', 'térni', 'nizzához', '?']\n",
      "0.0\n",
      "['<SOS>', 'thank', 'you', 'for', 'permitting', 'me', 'to', 'speak', 'now', '.', '<EOS>']\n",
      "['köszönöm', ',', 'hogy', 'engedélyezték', 'mostani', 'felszólalásomat', '.']\n",
      "['nagyon', 'hálás', 'vagyok', 'ezért', 'erről', '!']\n",
      "0.0\n",
      "['<SOS>', 'palestine', 'is', 'a', 'case', 'in', 'point', '.', '<EOS>']\n",
      "['palesztina', 'ügye', 'jó', 'példa', '.']\n",
      "['először', 'is', 'az', 'eltérés']\n"
     ]
    }
   ],
   "source": [
    "for i in worst_ones:\n",
    "    print(bleu_scores[i])\n",
    "    print(input_sentences[i])\n",
    "    print(targets[i])\n",
    "    print(predictions[i])"
   ]
  },
  {
   "cell_type": "code",
   "execution_count": 22,
   "metadata": {},
   "outputs": [
    {
     "name": "stdout",
     "output_type": "stream",
     "text": [
      "[1. 1. 1.]\n",
      "553    [<SOS>, membership, of, parliament, see, minut...\n",
      "278                        [<SOS>, thank, you, ., <EOS>]\n",
      "0      [<SOS>, oral, questions, and, written, declara...\n",
      "Name: en_processed, dtype: object\n",
      "553    [<SOS>, a, parlament, tagjai, lásd, a, jegyzők...\n",
      "278                          [<SOS>, köszönöm, ., <EOS>]\n",
      "0      [<SOS>, szóbeli, választ, igénylő, kérdések, é...\n",
      "Name: hu_processed, dtype: object\n"
     ]
    }
   ],
   "source": [
    "print(bleu_scores[best_ones])\n",
    "print(input_sentences[best_ones])\n",
    "print(output_sentences[best_ones])\n",
    "# print(predictions[best_ones])"
   ]
  },
  {
   "cell_type": "code",
   "execution_count": 23,
   "metadata": {},
   "outputs": [
    {
     "name": "stdout",
     "output_type": "stream",
     "text": [
      "(618,)\n",
      "0.0\n",
      "1.0\n",
      "0.3343984506606064\n"
     ]
    },
    {
     "data": {
      "image/png": "[encoded data removed]",
      "text/plain": [
       "<Figure size 640x480 with 1 Axes>"
      ]
     },
     "metadata": {},
     "output_type": "display_data"
    }
   ],
   "source": [
    "print(bleu_scores.shape)\n",
    "print(bleu_scores.min())\n",
    "print(bleu_scores.max())\n",
    "print(bleu_scores.mean())\n",
    "plt.hist(bleu_scores)\n",
    "plt.show()"
   ]
  },
  {
   "cell_type": "code",
   "execution_count": 24,
   "metadata": {},
   "outputs": [
    {
     "name": "stdout",
     "output_type": "stream",
     "text": [
      "(array([0.        , 0.0716262 , 0.07357589, 0.09196986, 0.09306272,\n",
      "       0.0973501 , 0.1       , 0.10108844, 0.1073539 , 0.10976233,\n",
      "       0.11111111, 0.11156508, 0.11809164, 0.11942189, 0.1238397 ,\n",
      "       0.125     , 0.12591707, 0.13406401, 0.14108029, 0.14285714,\n",
      "       0.14715178, 0.16374615, 0.16666667, 0.17113904, 0.17973159,\n",
      "       0.18612545, 0.1947002 , 0.19885318, 0.2       , 0.20217689,\n",
      "       0.2147078 , 0.21952465, 0.22062423, 0.22222222, 0.23618328,\n",
      "       0.23884377, 0.2476794 , 0.25      , 0.25670856, 0.27918817,\n",
      "       0.28216057, 0.28571429, 0.29205029, 0.29827977, 0.3       ,\n",
      "       0.30326533, 0.3220617 , 0.3274923 , 0.33093634, 0.33333333,\n",
      "       0.34227808, 0.35826566, 0.3715191 , 0.37225089, 0.375     ,\n",
      "       0.38940039, 0.39770636, 0.4       , 0.42857143, 0.44444444,\n",
      "       0.47236655, 0.47768754, 0.49123845, 0.5       , 0.5367695 ,\n",
      "       0.55837634, 0.57142857, 0.58410059, 0.6       , 0.6191985 ,\n",
      "       0.625     , 0.66666667, 0.70540144, 0.75      , 0.77777778,\n",
      "       0.8       , 0.85714286, 0.8668779 , 0.88888889, 1.        ]), array([55,  2,  1,  1,  6,  2, 19,  3,  5,  1, 19,  2,  1, 12,  6, 22,  1,\n",
      "        5,  4, 39,  1,  7, 27,  1,  1,  4,  9,  5, 24,  7,  6,  4,  3,  8,\n",
      "        3,  7,  5, 26,  1,  2,  3, 31,  2,  1,  6,  5,  1,  4,  5, 25,  1,\n",
      "        1,  1,  1,  4,  6,  1, 14,  8,  1,  1,  2,  1, 14,  1,  1,  2,  1,\n",
      "        4,  1,  1,  8,  1, 22,  1,  4,  2,  1,  1, 71]))\n"
     ]
    }
   ],
   "source": [
    "print(np.unique(bleu_scores, return_counts=True))"
   ]
  },
  {
   "cell_type": "code",
   "execution_count": null,
   "metadata": {},
   "outputs": [],
   "source": []
  }
 ],
 "metadata": {
  "kernelspec": {
   "display_name": "Python 3.10.11 ('NLP_Proj2-rNUYsnK4')",
   "language": "python",
   "name": "python3"
  },
  "language_info": {
   "codemirror_mode": {
    "name": "ipython",
    "version": 3
   },
   "file_extension": ".py",
   "mimetype": "text/x-python",
   "name": "python",
   "nbconvert_exporter": "python",
   "pygments_lexer": "ipython3",
   "version": "3.10.11"
  },
  "orig_nbformat": 4,
  "vscode": {
   "interpreter": {
    "hash": "5f409a3a832281d5d29b9db2f1b88490e5520e0b507b00f44db5cda2918a49b6"
   }
  }
 },
 "nbformat": 4,
 "nbformat_minor": 2
}
